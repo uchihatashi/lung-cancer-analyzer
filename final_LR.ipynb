{
 "cells": [
  {
   "cell_type": "code",
   "execution_count": 111,
   "metadata": {},
   "outputs": [],
   "source": [
    "import os\n",
    "import numpy as np\n",
    "import pandas as pd\n",
    "import matplotlib.pyplot as plt\n",
    "from scipy.io import loadmat\n",
    "%matplotlib inline"
   ]
  },
  {
   "cell_type": "code",
   "execution_count": 112,
   "metadata": {},
   "outputs": [],
   "source": [
    "import xlsxwriter\n",
    "from pandas import DataFrame\n",
    "from sklearn.metrics import accuracy_score"
   ]
  },
  {
   "cell_type": "code",
   "execution_count": 113,
   "metadata": {},
   "outputs": [
    {
     "name": "stdout",
     "output_type": "stream",
     "text": [
      "1    Medium\n",
      "2      High\n",
      "3      High\n",
      "4      High\n",
      "Name: Level, dtype: object\n"
     ]
    }
   ],
   "source": [
    "xl = pd.read_excel(\"D:\\Cancer_Data_set.xlsx\")\n",
    "print(xl[\"Level\"][1:5])"
   ]
  },
  {
   "cell_type": "code",
   "execution_count": 114,
   "metadata": {},
   "outputs": [],
   "source": [
    "xl[\"Level\"]=xl[\"Level\"].map({\"High\":1,\"Medium\":2,\"Low\":3})"
   ]
  },
  {
   "cell_type": "code",
   "execution_count": 115,
   "metadata": {},
   "outputs": [
    {
     "data": {
      "text/plain": [
       "0    3\n",
       "1    2\n",
       "2    1\n",
       "3    1\n",
       "4    1\n",
       "Name: Level, dtype: int64"
      ]
     },
     "execution_count": 115,
     "metadata": {},
     "output_type": "execute_result"
    }
   ],
   "source": [
    "xl[\"Level\"].head()"
   ]
  },
  {
   "cell_type": "code",
   "execution_count": 116,
   "metadata": {},
   "outputs": [],
   "source": [
    "X = xl.iloc[:,1:-1]\n",
    "y= xl[\"Level\"]\n"
   ]
  },
  {
   "cell_type": "code",
   "execution_count": 117,
   "metadata": {},
   "outputs": [],
   "source": [
    "from sklearn.model_selection import train_test_split"
   ]
  },
  {
   "cell_type": "code",
   "execution_count": 118,
   "metadata": {},
   "outputs": [],
   "source": [
    "x_train,x_test,y_train,y_test=train_test_split(X,y,test_size=0.5)"
   ]
  },
  {
   "cell_type": "code",
   "execution_count": 119,
   "metadata": {},
   "outputs": [],
   "source": [
    "from sklearn import linear_model"
   ]
  },
  {
   "cell_type": "code",
   "execution_count": 120,
   "metadata": {},
   "outputs": [
    {
     "data": {
      "text/plain": [
       "LogisticRegression(C=1.0, class_weight=None, dual=False, fit_intercept=True,\n",
       "          intercept_scaling=1, max_iter=100, multi_class='ovr', n_jobs=1,\n",
       "          penalty='l2', random_state=None, solver='lbfgs', tol=0.0001,\n",
       "          verbose=0, warm_start=False)"
      ]
     },
     "execution_count": 120,
     "metadata": {},
     "output_type": "execute_result"
    }
   ],
   "source": [
    "reg = linear_model.LogisticRegression(solver='lbfgs')\n",
    "reg.fit(x_train,y_train)"
   ]
  },
  {
   "cell_type": "code",
   "execution_count": 121,
   "metadata": {},
   "outputs": [
    {
     "data": {
      "text/plain": [
       "0.994"
      ]
     },
     "execution_count": 121,
     "metadata": {},
     "output_type": "execute_result"
    }
   ],
   "source": [
    "reg.score(x_train,y_train)"
   ]
  },
  {
   "cell_type": "code",
   "execution_count": 122,
   "metadata": {},
   "outputs": [],
   "source": [
    "y_pred=reg.predict(x_test)"
   ]
  },
  {
   "cell_type": "code",
   "execution_count": 123,
   "metadata": {},
   "outputs": [
    {
     "data": {
      "text/plain": [
       "array([1, 3, 3, 2, 1, 2, 2, 1, 1, 3, 1, 1, 2, 2, 2, 3, 1, 3, 2, 3, 2, 3,\n",
       "       3, 3, 2, 1, 3, 3, 2, 1, 2, 1, 1, 2, 1, 2, 1, 2, 2, 1, 2, 1, 2, 1,\n",
       "       1, 2, 3, 3, 2, 1, 3, 1, 1, 3, 2, 2, 1, 2, 2, 1, 3, 2, 2, 2, 1, 3,\n",
       "       3, 3, 3, 2, 1, 2, 3, 3, 1, 2, 2, 2, 2, 1, 2, 3, 1, 3, 2, 1, 1, 3,\n",
       "       3, 3, 1, 3, 2, 2, 3, 2, 1, 3, 2, 1, 3, 1, 1, 3, 1, 3, 2, 2, 2, 2,\n",
       "       3, 1, 1, 2, 3, 2, 3, 3, 1, 1, 2, 3, 2, 2, 3, 1, 1, 2, 2, 3, 3, 3,\n",
       "       2, 3, 2, 1, 2, 1, 3, 1, 1, 2, 2, 1, 2, 1, 1, 1, 2, 1, 2, 2, 1, 2,\n",
       "       2, 2, 3, 3, 3, 3, 3, 3, 1, 3, 2, 3, 1, 3, 2, 1, 1, 2, 2, 1, 3, 1,\n",
       "       1, 2, 1, 1, 2, 2, 3, 1, 1, 1, 3, 2, 3, 2, 1, 2, 2, 2, 1, 2, 3, 2,\n",
       "       1, 3, 2, 3, 3, 2, 1, 3, 3, 2, 3, 3, 3, 3, 2, 3, 1, 3, 3, 3, 2, 3,\n",
       "       2, 1, 2, 3, 1, 1, 3, 2, 3, 1, 1, 3, 2, 3, 2, 3, 3, 1, 3, 1, 2, 1,\n",
       "       2, 1, 1, 3, 1, 1, 3, 3, 1, 1, 2, 2, 1, 3, 2, 2, 1, 3, 2, 2, 1, 1,\n",
       "       1, 3, 1, 2, 1, 3, 1, 1, 1, 2, 3, 3, 1, 1, 2, 3, 3, 2, 2, 1, 2, 2,\n",
       "       1, 2, 1, 3, 2, 2, 3, 3, 3, 1, 3, 1, 1, 1, 2, 2, 1, 1, 3, 1, 1, 3,\n",
       "       2, 3, 1, 1, 3, 3, 1, 3, 3, 3, 2, 2, 3, 1, 1, 1, 1, 1, 3, 1, 3, 1,\n",
       "       1, 2, 1, 3, 2, 3, 1, 2, 1, 3, 3, 2, 2, 2, 3, 1, 2, 3, 2, 2, 1, 3,\n",
       "       2, 3, 1, 3, 1, 2, 3, 1, 2, 1, 1, 1, 2, 1, 2, 3, 1, 1, 2, 2, 3, 3,\n",
       "       3, 2, 3, 2, 1, 3, 3, 3, 3, 1, 1, 3, 3, 3, 1, 1, 2, 3, 2, 2, 1, 1,\n",
       "       2, 1, 3, 1, 1, 2, 3, 3, 3, 3, 3, 2, 1, 1, 3, 2, 1, 1, 3, 2, 2, 3,\n",
       "       2, 2, 2, 2, 2, 1, 2, 1, 2, 2, 2, 3, 3, 3, 2, 1, 3, 1, 1, 2, 3, 1,\n",
       "       1, 3, 2, 2, 1, 1, 3, 3, 1, 1, 3, 1, 2, 3, 3, 3, 3, 1, 1, 2, 1, 2,\n",
       "       3, 2, 3, 3, 1, 2, 1, 2, 1, 3, 1, 2, 2, 1, 3, 1, 1, 1, 1, 2, 1, 2,\n",
       "       3, 1, 1, 3, 1, 1, 2, 3, 1, 2, 1, 1, 2, 3, 3, 3], dtype=int64)"
      ]
     },
     "execution_count": 123,
     "metadata": {},
     "output_type": "execute_result"
    }
   ],
   "source": [
    "y_pred"
   ]
  },
  {
   "cell_type": "code",
   "execution_count": 124,
   "metadata": {},
   "outputs": [
    {
     "data": {
      "text/plain": [
       "0.986"
      ]
     },
     "execution_count": 124,
     "metadata": {},
     "output_type": "execute_result"
    }
   ],
   "source": [
    "reg.score(x_test,y_test)"
   ]
  },
  {
   "cell_type": "code",
   "execution_count": 125,
   "metadata": {},
   "outputs": [
    {
     "name": "stdout",
     "output_type": "stream",
     "text": [
      "0.986\n"
     ]
    }
   ],
   "source": [
    "\n",
    "accuracy = accuracy_score(y_pred,y_test)\n",
    "print (accuracy)"
   ]
  },
  {
   "cell_type": "code",
   "execution_count": null,
   "metadata": {},
   "outputs": [],
   "source": []
  },
  {
   "cell_type": "code",
   "execution_count": null,
   "metadata": {},
   "outputs": [],
   "source": []
  },
  {
   "cell_type": "code",
   "execution_count": null,
   "metadata": {},
   "outputs": [],
   "source": []
  },
  {
   "cell_type": "code",
   "execution_count": null,
   "metadata": {},
   "outputs": [],
   "source": []
  },
  {
   "cell_type": "code",
   "execution_count": null,
   "metadata": {},
   "outputs": [],
   "source": []
  },
  {
   "cell_type": "code",
   "execution_count": null,
   "metadata": {},
   "outputs": [],
   "source": []
  },
  {
   "cell_type": "code",
   "execution_count": null,
   "metadata": {},
   "outputs": [],
   "source": []
  },
  {
   "cell_type": "code",
   "execution_count": null,
   "metadata": {},
   "outputs": [],
   "source": []
  }
 ],
 "metadata": {
  "kernelspec": {
   "display_name": "Python 3",
   "language": "python",
   "name": "python3"
  },
  "language_info": {
   "codemirror_mode": {
    "name": "ipython",
    "version": 3
   },
   "file_extension": ".py",
   "mimetype": "text/x-python",
   "name": "python",
   "nbconvert_exporter": "python",
   "pygments_lexer": "ipython3",
   "version": "3.7.0"
  }
 },
 "nbformat": 4,
 "nbformat_minor": 2
}
